{
  "nbformat": 4,
  "nbformat_minor": 0,
  "metadata": {
    "colab": {
      "provenance": [],
      "gpuType": "T4"
    },
    "kernelspec": {
      "name": "python3",
      "display_name": "Python 3"
    },
    "language_info": {
      "name": "python"
    },
    "accelerator": "GPU"
  },
  "cells": [
    {
      "cell_type": "code",
      "execution_count": null,
      "metadata": {
        "colab": {
          "base_uri": "https://localhost:8080/",
          "height": 36
        },
        "id": "Vpo7K1gpnP3m",
        "outputId": "1faa8802-8e8f-40d9-fa2a-195436eb617e"
      },
      "outputs": [
        {
          "output_type": "execute_result",
          "data": {
            "text/plain": [
              "'2.6.0+cu124'"
            ],
            "application/vnd.google.colaboratory.intrinsic+json": {
              "type": "string"
            }
          },
          "metadata": {},
          "execution_count": 1
        }
      ],
      "source": [
        "import torch\n",
        "from torch import nn\n",
        "import matplotlib.pyplot as plt\n",
        "torch.__version__"
      ]
    },
    {
      "cell_type": "code",
      "source": [
        "weight = 0.7\n",
        "bias = 0.4\n",
        "start = 0\n",
        "end = 4\n",
        "step = 0.1\n",
        "X = torch.arange(start, end, step).unsqueeze(dim=1)\n",
        "Y = weight * X + bias"
      ],
      "metadata": {
        "id": "qrvbZrU2nqfF"
      },
      "execution_count": null,
      "outputs": []
    },
    {
      "cell_type": "code",
      "source": [
        "X[:10], Y[:10], len(Y)"
      ],
      "metadata": {
        "colab": {
          "base_uri": "https://localhost:8080/"
        },
        "id": "67LOfTTapDsk",
        "outputId": "e3e2030f-a305-4b07-9b28-1fc3a33753f5"
      },
      "execution_count": null,
      "outputs": [
        {
          "output_type": "execute_result",
          "data": {
            "text/plain": [
              "(tensor([[0.0000],\n",
              "         [0.1000],\n",
              "         [0.2000],\n",
              "         [0.3000],\n",
              "         [0.4000],\n",
              "         [0.5000],\n",
              "         [0.6000],\n",
              "         [0.7000],\n",
              "         [0.8000],\n",
              "         [0.9000]]),\n",
              " tensor([[0.4000],\n",
              "         [0.4700],\n",
              "         [0.5400],\n",
              "         [0.6100],\n",
              "         [0.6800],\n",
              "         [0.7500],\n",
              "         [0.8200],\n",
              "         [0.8900],\n",
              "         [0.9600],\n",
              "         [1.0300]]),\n",
              " 40)"
            ]
          },
          "metadata": {},
          "execution_count": 3
        }
      ]
    },
    {
      "cell_type": "code",
      "source": [
        "train_split = int(0.8 * len(X))\n",
        "X_train, Y_train = X[:train_split], Y[:train_split]\n",
        "X_test, Y_test = X[train_split:], Y[train_split:]"
      ],
      "metadata": {
        "id": "k-_2hK3YAhh7"
      },
      "execution_count": null,
      "outputs": []
    },
    {
      "cell_type": "code",
      "source": [
        "def plot_predictions( train_data=X_train,\n",
        "                     train_labels=Y_train,\n",
        "                      test_data=X_test,\n",
        "                      test_labels=Y_test,\n",
        "                      predictions=None):\n",
        "  plt.figure(figsize=(10,7))\n",
        "  plt.scatter(train_data, train_labels, c=\"b\", s=4, label=\"train\")\n",
        "  plt.scatter(test_data, test_labels, c=\"g\", s=4, label=\"test\")\n",
        "  if predictions is not None:\n",
        "    plt.scatter(test_data, predictions, c=\"r\", s=4, label=\"pred\")\n",
        "\n",
        "  plt.legend(prop={\"size\": 14})"
      ],
      "metadata": {
        "id": "N4eteuzYDKRx"
      },
      "execution_count": null,
      "outputs": []
    },
    {
      "cell_type": "code",
      "source": [
        "plot_predictions()"
      ],
      "metadata": {
        "colab": {
          "base_uri": "https://localhost:8080/",
          "height": 530
        },
        "id": "57YgE8psFbRf",
        "outputId": "99664e9d-4b8a-46f8-8de0-bbb250411df6"
      },
      "execution_count": null,
      "outputs": [
        {
          "output_type": "display_data",
          "data": {
            "text/plain": [
              "<Figure size 1000x700 with 1 Axes>"
            ],
            "image/png": "[encoded data removed]"
          },
          "metadata": {}
        }
      ]
    },
    {
      "cell_type": "code",
      "source": [
        "class LinearRegressionModel(nn.Module):  #everything inherits from it in NNs\n",
        "  def __init__(self):\n",
        "    super().__init__()\n",
        "    self.weights = nn.Parameter(torch.randn(1,\n",
        "                                           requires_grad=True,\n",
        "                                           dtype=torch.float))\n",
        "    self.bias = nn.Parameter(torch.randn(1,\n",
        "                                         dtype=torch.float))\n",
        "  def forward(self, x: torch.Tensor) ->torch.Tensor:\n",
        "    return self.weights*x + self.bias"
      ],
      "metadata": {
        "id": "qL5dS_dkFrMQ"
      },
      "execution_count": null,
      "outputs": []
    },
    {
      "cell_type": "markdown",
      "source": [
        "torch.nn.Parameter\n",
        "torch.nn.Module\n",
        "torch.optim"
      ],
      "metadata": {
        "id": "yeAb9SS3JV4m"
      }
    },
    {
      "cell_type": "code",
      "source": [
        "torch.manual_seed(42)\n",
        "\n",
        "model_0 = LinearRegressionModel()\n",
        "model_0\n",
        "list(model_0.parameters())"
      ],
      "metadata": {
        "colab": {
          "base_uri": "https://localhost:8080/"
        },
        "id": "TsFBQhdcKLX0",
        "outputId": "a91e8cdf-245f-45b4-a77a-13949254ea1f"
      },
      "execution_count": null,
      "outputs": [
        {
          "output_type": "execute_result",
          "data": {
            "text/plain": [
              "[Parameter containing:\n",
              " tensor([0.3367], requires_grad=True),\n",
              " Parameter containing:\n",
              " tensor([0.1288], requires_grad=True)]"
            ]
          },
          "metadata": {},
          "execution_count": 8
        }
      ]
    },
    {
      "cell_type": "code",
      "source": [
        "model_0.state_dict()"
      ],
      "metadata": {
        "colab": {
          "base_uri": "https://localhost:8080/"
        },
        "id": "GFg0cDeRLMty",
        "outputId": "4eebac19-d331-4b6f-d465-0b9ed4f45443"
      },
      "execution_count": null,
      "outputs": [
        {
          "output_type": "execute_result",
          "data": {
            "text/plain": [
              "OrderedDict([('weights', tensor([0.3367])), ('bias', tensor([0.1288]))])"
            ]
          },
          "metadata": {},
          "execution_count": 9
        }
      ]
    },
    {
      "cell_type": "code",
      "source": [
        "X_test, Y_test"
      ],
      "metadata": {
        "colab": {
          "base_uri": "https://localhost:8080/"
        },
        "id": "WHY_iY2jL18u",
        "outputId": "ebe839ad-6e36-42d7-d1a2-952ef42a1618"
      },
      "execution_count": null,
      "outputs": [
        {
          "output_type": "execute_result",
          "data": {
            "text/plain": [
              "(tensor([[3.2000],\n",
              "         [3.3000],\n",
              "         [3.4000],\n",
              "         [3.5000],\n",
              "         [3.6000],\n",
              "         [3.7000],\n",
              "         [3.8000],\n",
              "         [3.9000]]),\n",
              " tensor([[2.6400],\n",
              "         [2.7100],\n",
              "         [2.7800],\n",
              "         [2.8500],\n",
              "         [2.9200],\n",
              "         [2.9900],\n",
              "         [3.0600],\n",
              "         [3.1300]]))"
            ]
          },
          "metadata": {},
          "execution_count": 10
        }
      ]
    },
    {
      "cell_type": "code",
      "source": [
        "with torch.inference_mode():\n",
        "  y_preds = model_0(X_test)\n",
        "y_preds"
      ],
      "metadata": {
        "colab": {
          "base_uri": "https://localhost:8080/"
        },
        "id": "QDO2-LpYLbR8",
        "outputId": "b61c5d04-4ab0-44a9-ef99-6c76b96177e9"
      },
      "execution_count": null,
      "outputs": [
        {
          "output_type": "execute_result",
          "data": {
            "text/plain": [
              "tensor([[1.2062],\n",
              "        [1.2399],\n",
              "        [1.2736],\n",
              "        [1.3072],\n",
              "        [1.3409],\n",
              "        [1.3746],\n",
              "        [1.4082],\n",
              "        [1.4419]])"
            ]
          },
          "metadata": {},
          "execution_count": 11
        }
      ]
    },
    {
      "cell_type": "code",
      "source": [
        "plot_predictions(predictions=y_preds)"
      ],
      "metadata": {
        "id": "CzaZjjqIMzLV",
        "outputId": "b6b35903-bc4a-4ec9-ea88-42620238b4c0",
        "colab": {
          "base_uri": "https://localhost:8080/",
          "height": 530
        }
      },
      "execution_count": null,
      "outputs": [
        {
          "output_type": "display_data",
          "data": {
            "text/plain": [
              "<Figure size 1000x700 with 1 Axes>"
            ],
            "image/png": "[encoded data removed]"
          },
          "metadata": {}
        }
      ]
    },
    {
      "cell_type": "code",
      "source": [
        "#set up a loss function\n",
        "loss_fn = nn.L1Loss()\n",
        "\n",
        "#set up an optimizer\n",
        "optimizer = torch.optim.SGD(params=model_0.parameters(),\n",
        "                            lr=0.001) #learning rate\n",
        "\n"
      ],
      "metadata": {
        "id": "HIYw9WMGa4Ec"
      },
      "execution_count": null,
      "outputs": []
    },
    {
      "cell_type": "code",
      "source": [
        "#training loop\n",
        "#forward pass, then calculate the loss, optimize , loss backward, optimizer step\n",
        "epochs = 200\n",
        "\n",
        "epoch_count = []\n",
        "loss_values = []\n",
        "test_loss_values = []\n",
        "\n",
        "for epoch in range(epochs):\n",
        "  model_0.train()\n",
        "\n",
        "  #forward pass\n",
        "  y_pred = model_0(X_train)\n",
        "\n",
        "  #loss calculation\n",
        "  loss = loss_fn(y_pred, Y_train)\n",
        "  #print(f\"Loss:{loss}\")\n",
        "\n",
        "  #optimizer zero grad\n",
        "  optimizer.zero_grad()\n",
        "\n",
        "  #back propagation\n",
        "  loss.backward()\n",
        "\n",
        "  #step optimizer\n",
        "  optimizer.step()\n",
        "\n",
        "  model_0.eval()\n",
        "  with torch.inference_mode():\n",
        "    test_pred = model_0(X_test)\n",
        "    test_loss = loss_fn(test_pred, Y_test)\n",
        "    if epoch % 10 == 0:\n",
        "      epoch_count.append(epoch)\n",
        "      loss_values.append(loss)\n",
        "      test_loss_values.append(test_loss)\n",
        "\n",
        "      print(f\"Epoch: {epoch} | Loss: {loss} | Test Loss: {test_loss}\")\n",
        "      print(model_0.state_dict())"
      ],
      "metadata": {
        "colab": {
          "base_uri": "https://localhost:8080/"
        },
        "id": "Y4qU482Ba7BC",
        "outputId": "798a2e68-34f9-464e-c13a-999a8fc0e6e9"
      },
      "execution_count": null,
      "outputs": [
        {
          "output_type": "stream",
          "name": "stdout",
          "text": [
            "Epoch: 0 | Loss: 0.8343205451965332 | Test Loss: 1.5544373989105225\n",
            "OrderedDict([('weights', tensor([0.3382])), ('bias', tensor([0.1298]))])\n",
            "Epoch: 10 | Loss: 0.8002956509590149 | Test Loss: 1.489412784576416\n",
            "OrderedDict([('weights', tensor([0.3537])), ('bias', tensor([0.1398]))])\n",
            "Epoch: 20 | Loss: 0.7662708163261414 | Test Loss: 1.4243881702423096\n",
            "OrderedDict([('weights', tensor([0.3692])), ('bias', tensor([0.1498]))])\n",
            "Epoch: 30 | Loss: 0.7322459816932678 | Test Loss: 1.3593635559082031\n",
            "OrderedDict([('weights', tensor([0.3847])), ('bias', tensor([0.1598]))])\n",
            "Epoch: 40 | Loss: 0.6982210874557495 | Test Loss: 1.2943389415740967\n",
            "OrderedDict([('weights', tensor([0.4002])), ('bias', tensor([0.1698]))])\n",
            "Epoch: 50 | Loss: 0.664196252822876 | Test Loss: 1.2293142080307007\n",
            "OrderedDict([('weights', tensor([0.4157])), ('bias', tensor([0.1798]))])\n",
            "Epoch: 60 | Loss: 0.6301714777946472 | Test Loss: 1.1642897129058838\n",
            "OrderedDict([('weights', tensor([0.4312])), ('bias', tensor([0.1898]))])\n",
            "Epoch: 70 | Loss: 0.5961465835571289 | Test Loss: 1.0992649793624878\n",
            "OrderedDict([('weights', tensor([0.4467])), ('bias', tensor([0.1998]))])\n",
            "Epoch: 80 | Loss: 0.5621216297149658 | Test Loss: 1.0342403650283813\n",
            "OrderedDict([('weights', tensor([0.4622])), ('bias', tensor([0.2098]))])\n",
            "Epoch: 90 | Loss: 0.5280968546867371 | Test Loss: 0.9692157506942749\n",
            "OrderedDict([('weights', tensor([0.4777])), ('bias', tensor([0.2198]))])\n",
            "Epoch: 100 | Loss: 0.4940720200538635 | Test Loss: 0.9041911363601685\n",
            "OrderedDict([('weights', tensor([0.4932])), ('bias', tensor([0.2298]))])\n",
            "Epoch: 110 | Loss: 0.46004700660705566 | Test Loss: 0.8391659259796143\n",
            "OrderedDict([('weights', tensor([0.5087])), ('bias', tensor([0.2398]))])\n",
            "Epoch: 120 | Loss: 0.42602163553237915 | Test Loss: 0.7741401195526123\n",
            "OrderedDict([('weights', tensor([0.5242])), ('bias', tensor([0.2498]))])\n",
            "Epoch: 130 | Loss: 0.39199647307395935 | Test Loss: 0.7091147303581238\n",
            "OrderedDict([('weights', tensor([0.5397])), ('bias', tensor([0.2598]))])\n",
            "Epoch: 140 | Loss: 0.35797131061553955 | Test Loss: 0.6440891623497009\n",
            "OrderedDict([('weights', tensor([0.5552])), ('bias', tensor([0.2698]))])\n",
            "Epoch: 150 | Loss: 0.32394614815711975 | Test Loss: 0.5790636539459229\n",
            "OrderedDict([('weights', tensor([0.5707])), ('bias', tensor([0.2798]))])\n",
            "Epoch: 160 | Loss: 0.28992101550102234 | Test Loss: 0.5140380859375\n",
            "OrderedDict([('weights', tensor([0.5862])), ('bias', tensor([0.2898]))])\n",
            "Epoch: 170 | Loss: 0.25589582324028015 | Test Loss: 0.4490125775337219\n",
            "OrderedDict([('weights', tensor([0.6017])), ('bias', tensor([0.2998]))])\n",
            "Epoch: 180 | Loss: 0.22187067568302155 | Test Loss: 0.3839869201183319\n",
            "OrderedDict([('weights', tensor([0.6172])), ('bias', tensor([0.3098]))])\n",
            "Epoch: 190 | Loss: 0.18784551322460175 | Test Loss: 0.3189615309238434\n",
            "OrderedDict([('weights', tensor([0.6327])), ('bias', tensor([0.3198]))])\n"
          ]
        }
      ]
    },
    {
      "cell_type": "code",
      "source": [
        "import numpy as np\n",
        "\n",
        "plt.plot(epoch_count,np.array(torch.tensor(loss_values).numpy()), label=\"train loss\")\n",
        "plt.plot(epoch_count, test_loss_values, label=\"test loss\")\n",
        "plt.title(\"Training and Testing Loss\")\n",
        "plt.ylabel(\"Loss\")\n",
        "plt.xlabel(\"Epochs\")\n",
        "plt"
      ],
      "metadata": {
        "colab": {
          "base_uri": "https://localhost:8080/",
          "height": 507
        },
        "id": "Rw9Ymgfjo3X3",
        "outputId": "853eeb79-afbe-4c13-ab7a-c38a346b9ef5"
      },
      "execution_count": null,
      "outputs": [
        {
          "output_type": "execute_result",
          "data": {
            "text/plain": [
              "<module 'matplotlib.pyplot' from '/usr/local/lib/python3.11/dist-packages/matplotlib/pyplot.py'>"
            ]
          },
          "metadata": {},
          "execution_count": 15
        },
        {
          "output_type": "display_data",
          "data": {
            "text/plain": [
              "<Figure size 640x480 with 1 Axes>"
            ],
            "image/png": "[encoded data removed]"
          },
          "metadata": {}
        }
      ]
    },
    {
      "cell_type": "code",
      "source": [
        "with torch.inference_mode():\n",
        "  y_preds_new = model_0(X_test)"
      ],
      "metadata": {
        "id": "wjkpqrAwkGwc"
      },
      "execution_count": null,
      "outputs": []
    },
    {
      "cell_type": "code",
      "source": [
        "plot_predictions(predictions=y_preds_new)"
      ],
      "metadata": {
        "colab": {
          "base_uri": "https://localhost:8080/",
          "height": 530
        },
        "id": "NtJibLw-kVJO",
        "outputId": "a279a14f-c47d-4ceb-ae98-5b4f28c2b67b"
      },
      "execution_count": null,
      "outputs": [
        {
          "output_type": "display_data",
          "data": {
            "text/plain": [
              "<Figure size 1000x700 with 1 Axes>"
            ],
            "image/png": "[encoded data removed]"
          },
          "metadata": {}
        }
      ]
    },
    {
      "cell_type": "markdown",
      "source": [
        "How to save models\n",
        "*   torch.save()\n",
        "*   torch.load()\n",
        "*   torch.nn.Module.load_state_dict()\n",
        "\n"
      ],
      "metadata": {
        "id": "cRKFQ16Rqif9"
      }
    },
    {
      "cell_type": "code",
      "source": [
        "#saving our model\n",
        "from pathlib import Path\n",
        "MODEL_PATH = Path(\"models\")\n",
        "MODEL_PATH.mkdir(parents=True, exist_ok=True)\n",
        "\n",
        "MODEL_NAME = \"1_pytorch_workflow_model_0.pth\"\n",
        "MODEL_SAVE_PATH = MODEL_PATH / MODEL_NAME\n",
        "\n",
        "torch.save(obj=model_0.state_dict(),\n",
        "           f=MODEL_SAVE_PATH)"
      ],
      "metadata": {
        "id": "OSKL3Bvergsu"
      },
      "execution_count": null,
      "outputs": []
    },
    {
      "cell_type": "code",
      "source": [
        "!ls -l models"
      ],
      "metadata": {
        "colab": {
          "base_uri": "https://localhost:8080/"
        },
        "id": "FfuwwieasXA0",
        "outputId": "dcda5628-b4d0-4759-9771-d4476c3f377c"
      },
      "execution_count": null,
      "outputs": [
        {
          "output_type": "stream",
          "name": "stdout",
          "text": [
            "total 4\n",
            "-rw-r--r-- 1 root root 1674 Jul 22 01:22 1_pytorch_workflow_model_0.pth\n"
          ]
        }
      ]
    },
    {
      "cell_type": "code",
      "source": [
        "#Loading model\n",
        "loaded_model_0 = LinearRegressionModel()\n",
        "loaded_model_0.load_state_dict(torch.load(f=MODEL_SAVE_PATH))"
      ],
      "metadata": {
        "colab": {
          "base_uri": "https://localhost:8080/"
        },
        "id": "8367b4hOskTl",
        "outputId": "451e43c0-d39f-4063-9912-2548c53e6e67"
      },
      "execution_count": null,
      "outputs": [
        {
          "output_type": "execute_result",
          "data": {
            "text/plain": [
              "<All keys matched successfully>"
            ]
          },
          "metadata": {},
          "execution_count": 20
        }
      ]
    },
    {
      "cell_type": "code",
      "source": [
        "loaded_model_0.state_dict()"
      ],
      "metadata": {
        "colab": {
          "base_uri": "https://localhost:8080/"
        },
        "id": "-l8N78kctIi3",
        "outputId": "7511c3a5-656e-462f-f34d-b674f567ae79"
      },
      "execution_count": null,
      "outputs": [
        {
          "output_type": "execute_result",
          "data": {
            "text/plain": [
              "OrderedDict([('weights', tensor([0.6467])), ('bias', tensor([0.3288]))])"
            ]
          },
          "metadata": {},
          "execution_count": 21
        }
      ]
    },
    {
      "cell_type": "code",
      "source": [
        "import torch\n",
        "from torch import nn\n",
        "import matplotlib.pyplot as plt\n"
      ],
      "metadata": {
        "id": "1-_0YNfAtNAf"
      },
      "execution_count": null,
      "outputs": []
    },
    {
      "cell_type": "code",
      "source": [
        "device = \"cuda\" if torch.cuda.is_available() else \"cpu\"\n",
        "print(f\"using device: {device}\")\n"
      ],
      "metadata": {
        "colab": {
          "base_uri": "https://localhost:8080/"
        },
        "id": "akolouISuFzy",
        "outputId": "3d0963bd-273d-453e-cd1c-c78b575a6527"
      },
      "execution_count": null,
      "outputs": [
        {
          "output_type": "stream",
          "name": "stdout",
          "text": [
            "using device: cuda\n"
          ]
        }
      ]
    },
    {
      "cell_type": "code",
      "source": [
        "weight = 20\n",
        "bias = 2\n",
        "\n",
        "start = 0\n",
        "end = 1\n",
        "step = 0.02\n",
        "X = torch.arange(start, end, step).unsqueeze(dim=1)\n",
        "Y = weight * X + bias\n"
      ],
      "metadata": {
        "id": "8MjQNsIRumq2"
      },
      "execution_count": null,
      "outputs": []
    },
    {
      "cell_type": "code",
      "source": [
        "train_split = int(0.8* len(X))\n",
        "X_train, Y_train = X[:train_split], Y[:train_split]\n",
        "X_test, Y_test = X[train_split:], Y[train_split:]\n"
      ],
      "metadata": {
        "id": "xEt48iRjvKiG"
      },
      "execution_count": null,
      "outputs": []
    },
    {
      "cell_type": "code",
      "source": [
        "plot_predictions(X_train, Y_train, X_test, Y_test)"
      ],
      "metadata": {
        "colab": {
          "base_uri": "https://localhost:8080/",
          "height": 528
        },
        "id": "fZvudUz7vkow",
        "outputId": "9a274e10-9bf1-4c8b-f7ea-15e79fae3830"
      },
      "execution_count": null,
      "outputs": [
        {
          "output_type": "display_data",
          "data": {
            "text/plain": [
              "<Figure size 1000x700 with 1 Axes>"
            ],
            "image/png": "[encoded data removed]"
          },
          "metadata": {}
        }
      ]
    },
    {
      "cell_type": "code",
      "source": [
        "class LinearRegressionModelV2(nn.Module):\n",
        "  def __init__(self):\n",
        "    super().__init__()\n",
        "    self.linear_layer = nn.Linear(in_features=1,\n",
        "                                  out_features=1)\n",
        "  def forward(self, x: torch.Tensor) -> torch.Tensor:\n",
        "    return self.linear_layer(x)\n",
        "\n",
        "torch.manual_seed(42)\n",
        "model_1 = LinearRegressionModelV2()\n",
        "model_1, model_1.state_dict()\n"
      ],
      "metadata": {
        "colab": {
          "base_uri": "https://localhost:8080/"
        },
        "id": "0yH1lAIHv1ur",
        "outputId": "641ff0ad-8d96-4099-95d2-eef54dc9a82c"
      },
      "execution_count": null,
      "outputs": [
        {
          "output_type": "execute_result",
          "data": {
            "text/plain": [
              "(LinearRegressionModelV2(\n",
              "   (linear_layer): Linear(in_features=1, out_features=1, bias=True)\n",
              " ),\n",
              " OrderedDict([('linear_layer.weight', tensor([[0.7645]])),\n",
              "              ('linear_layer.bias', tensor([0.8300]))]))"
            ]
          },
          "metadata": {},
          "execution_count": 28
        }
      ]
    },
    {
      "cell_type": "code",
      "source": [
        "loss_fn = nn.L1Loss()\n",
        "optimizer = torch.optim.SGD(params=model_1.parameters(),\n",
        "                            lr=0.1)\n"
      ],
      "metadata": {
        "id": "ra0IwOEUxZkm"
      },
      "execution_count": null,
      "outputs": []
    },
    {
      "cell_type": "code",
      "source": [
        "epochs = 200\n",
        "\n",
        "for epoch in range(epoch):\n",
        "  model_1.train()\n",
        "\n",
        "  y_pred = model_1(X_train)\n",
        "\n",
        "  loss = loss_fn(y_pred, Y_train)\n",
        "\n",
        "  optimizer.zero_grad()\n",
        "\n",
        "  loss.backward()\n",
        "\n",
        "  optimizer.step()\n",
        "\n",
        "  model_1.eval()\n",
        "  with torch.inference_mode():\n",
        "    test_pred = model_1(X_test)\n",
        "    test_loss = loss_fn(test_pred, Y_test)\n",
        "\n",
        "  if epoch % 10 == 0:\n",
        "    print(f\"Epoch: {epoch} | Loss: {loss} | Test Loss: {test_loss}\")\n",
        "    print(model_1.state_dict())\n"
      ],
      "metadata": {
        "colab": {
          "base_uri": "https://localhost:8080/"
        },
        "id": "lcKjVIZTxvw5",
        "outputId": "135f70b9-ad63-4d85-a899-3d0a8779b255"
      },
      "execution_count": null,
      "outputs": [
        {
          "output_type": "stream",
          "name": "stdout",
          "text": [
            "Epoch: 0 | Loss: 0.9030594825744629 | Test Loss: 0.549106240272522\n",
            "OrderedDict([('linear_layer.weight', tensor([[19.3999]])), ('linear_layer.bias', tensor([1.9850]))])\n",
            "Epoch: 10 | Loss: 0.9030594825744629 | Test Loss: 0.549106240272522\n",
            "OrderedDict([('linear_layer.weight', tensor([[19.3999]])), ('linear_layer.bias', tensor([1.9850]))])\n",
            "Epoch: 20 | Loss: 0.9030594825744629 | Test Loss: 0.549106240272522\n",
            "OrderedDict([('linear_layer.weight', tensor([[19.3999]])), ('linear_layer.bias', tensor([1.9850]))])\n",
            "Epoch: 30 | Loss: 0.9030594825744629 | Test Loss: 0.549106240272522\n",
            "OrderedDict([('linear_layer.weight', tensor([[19.3999]])), ('linear_layer.bias', tensor([1.9850]))])\n",
            "Epoch: 40 | Loss: 0.9030594825744629 | Test Loss: 0.549106240272522\n",
            "OrderedDict([('linear_layer.weight', tensor([[19.3999]])), ('linear_layer.bias', tensor([1.9850]))])\n",
            "Epoch: 50 | Loss: 0.9030594825744629 | Test Loss: 0.549106240272522\n",
            "OrderedDict([('linear_layer.weight', tensor([[19.3999]])), ('linear_layer.bias', tensor([1.9850]))])\n",
            "Epoch: 60 | Loss: 0.9030594825744629 | Test Loss: 0.549106240272522\n",
            "OrderedDict([('linear_layer.weight', tensor([[19.3999]])), ('linear_layer.bias', tensor([1.9850]))])\n",
            "Epoch: 70 | Loss: 0.9030594825744629 | Test Loss: 0.549106240272522\n",
            "OrderedDict([('linear_layer.weight', tensor([[19.3999]])), ('linear_layer.bias', tensor([1.9850]))])\n",
            "Epoch: 80 | Loss: 0.9030594825744629 | Test Loss: 0.549106240272522\n",
            "OrderedDict([('linear_layer.weight', tensor([[19.3999]])), ('linear_layer.bias', tensor([1.9850]))])\n",
            "Epoch: 90 | Loss: 0.9030594825744629 | Test Loss: 0.549106240272522\n",
            "OrderedDict([('linear_layer.weight', tensor([[19.3999]])), ('linear_layer.bias', tensor([1.9850]))])\n",
            "Epoch: 100 | Loss: 0.9030594825744629 | Test Loss: 0.549106240272522\n",
            "OrderedDict([('linear_layer.weight', tensor([[19.3999]])), ('linear_layer.bias', tensor([1.9850]))])\n",
            "Epoch: 110 | Loss: 0.9030594825744629 | Test Loss: 0.549106240272522\n",
            "OrderedDict([('linear_layer.weight', tensor([[19.3999]])), ('linear_layer.bias', tensor([1.9850]))])\n",
            "Epoch: 120 | Loss: 0.9030594825744629 | Test Loss: 0.549106240272522\n",
            "OrderedDict([('linear_layer.weight', tensor([[19.3999]])), ('linear_layer.bias', tensor([1.9850]))])\n",
            "Epoch: 130 | Loss: 0.9030594825744629 | Test Loss: 0.549106240272522\n",
            "OrderedDict([('linear_layer.weight', tensor([[19.3999]])), ('linear_layer.bias', tensor([1.9850]))])\n",
            "Epoch: 140 | Loss: 0.9030594825744629 | Test Loss: 0.549106240272522\n",
            "OrderedDict([('linear_layer.weight', tensor([[19.3999]])), ('linear_layer.bias', tensor([1.9850]))])\n",
            "Epoch: 150 | Loss: 0.9030594825744629 | Test Loss: 0.549106240272522\n",
            "OrderedDict([('linear_layer.weight', tensor([[19.3999]])), ('linear_layer.bias', tensor([1.9850]))])\n",
            "Epoch: 160 | Loss: 0.9030594825744629 | Test Loss: 0.549106240272522\n",
            "OrderedDict([('linear_layer.weight', tensor([[19.3999]])), ('linear_layer.bias', tensor([1.9850]))])\n",
            "Epoch: 170 | Loss: 0.9030594825744629 | Test Loss: 0.549106240272522\n",
            "OrderedDict([('linear_layer.weight', tensor([[19.3999]])), ('linear_layer.bias', tensor([1.9850]))])\n",
            "Epoch: 180 | Loss: 0.9030594825744629 | Test Loss: 0.549106240272522\n",
            "OrderedDict([('linear_layer.weight', tensor([[19.3999]])), ('linear_layer.bias', tensor([1.9850]))])\n",
            "Epoch: 190 | Loss: 0.9030594825744629 | Test Loss: 0.549106240272522\n",
            "OrderedDict([('linear_layer.weight', tensor([[19.3999]])), ('linear_layer.bias', tensor([1.9850]))])\n"
          ]
        }
      ]
    },
    {
      "cell_type": "code",
      "source": [
        "model_1.eval()\n",
        "with torch.inference_mode():\n",
        "  y_pred = model_1(X_test)\n"
      ],
      "metadata": {
        "id": "OcPzAHkuzDrv"
      },
      "execution_count": null,
      "outputs": []
    },
    {
      "cell_type": "code",
      "source": [
        "\n",
        "plot_predictions(X_train, Y_train, X_test, Y_test, predictions=y_pred)"
      ],
      "metadata": {
        "colab": {
          "base_uri": "https://localhost:8080/",
          "height": 525
        },
        "id": "NkcIQl5MzE2h",
        "outputId": "52a3656a-1160-4cf1-9fad-56629bfe10b4"
      },
      "execution_count": null,
      "outputs": [
        {
          "output_type": "display_data",
          "data": {
            "text/plain": [
              "<Figure size 1000x700 with 1 Axes>"
            ],
            "image/png": "[encoded data removed]"
          },
          "metadata": {}
        }
      ]
    },
    {
      "cell_type": "code",
      "source": [
        "from pathlib import Path\n",
        "MODEL_PATH = Path(\"models\")\n",
        "MODEL_PATH.mkdir(parents=True, exist_ok=True)\n",
        "\n",
        "MODEL_NAME = \"2_pytorch_workflow_model_1.pth\"\n",
        "MODEL_SAVE_PATH = MODEL_PATH / MODEL_NAME\n",
        "\n",
        "torch.save(obj=model_1.state_dict(),\n",
        "           f=MODEL_SAVE_PATH)"
      ],
      "metadata": {
        "id": "QO-lY6ja0lUe"
      },
      "execution_count": null,
      "outputs": []
    },
    {
      "cell_type": "code",
      "source": [
        "loaded_model_1 = LinearRegressionModelV2()\n",
        "loaded_model_1.load_state_dict(torch.load(f=MODEL_SAVE_PATH))"
      ],
      "metadata": {
        "colab": {
          "base_uri": "https://localhost:8080/"
        },
        "id": "zUOI3DWm1DA6",
        "outputId": "610c462f-c2a0-4dcf-84f1-82c82bda6c29"
      },
      "execution_count": null,
      "outputs": [
        {
          "output_type": "execute_result",
          "data": {
            "text/plain": [
              "<All keys matched successfully>"
            ]
          },
          "metadata": {},
          "execution_count": 62
        }
      ]
    }
  ]
}